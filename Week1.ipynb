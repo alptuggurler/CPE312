{
 "cells": [
  {
   "cell_type": "code",
   "execution_count": null,
   "id": "fdc44d51",
   "metadata": {},
   "outputs": [],
   "source": [
    "# num1=20\n",
    "num2=23\n",
    "\n",
    "gün = \"carsamba\"\n",
    "\n",
    "floatnum = 1.03\n"
   ]
  },
  {
   "cell_type": "code",
   "execution_count": 6,
   "id": "8bb6ae8f",
   "metadata": {},
   "outputs": [
    {
     "data": {
      "text/plain": [
       "list"
      ]
     },
     "execution_count": 6,
     "metadata": {},
     "output_type": "execute_result"
    }
   ],
   "source": [
    "list_int=[0,2,4,6,8,10]\n",
    "type(list_int)"
   ]
  },
  {
   "cell_type": "code",
   "execution_count": 7,
   "id": "683a65d2",
   "metadata": {
    "scrolled": true
   },
   "outputs": [
    {
     "data": {
      "text/plain": [
       "list"
      ]
     },
     "execution_count": 7,
     "metadata": {},
     "output_type": "execute_result"
    }
   ],
   "source": [
    "list_str = [\"ocak\",\"subat\",\"mart\",\"nisan\"]\n",
    "type(list_str)"
   ]
  },
  {
   "cell_type": "code",
   "execution_count": 9,
   "id": "6309cbb7",
   "metadata": {},
   "outputs": [
    {
     "data": {
      "text/plain": [
       "2"
      ]
     },
     "execution_count": 9,
     "metadata": {},
     "output_type": "execute_result"
    }
   ],
   "source": [
    "list_int[1]"
   ]
  },
  {
   "cell_type": "code",
   "execution_count": 10,
   "id": "afd359f3",
   "metadata": {},
   "outputs": [
    {
     "data": {
      "text/plain": [
       "'nisan'"
      ]
     },
     "execution_count": 10,
     "metadata": {},
     "output_type": "execute_result"
    }
   ],
   "source": [
    "list_str[-1]"
   ]
  },
  {
   "cell_type": "code",
   "execution_count": 12,
   "id": "1b5d2ad9",
   "metadata": {},
   "outputs": [
    {
     "data": {
      "text/plain": [
       "[0, 2, 4, 6]"
      ]
     },
     "execution_count": 12,
     "metadata": {},
     "output_type": "execute_result"
    }
   ],
   "source": [
    "list_int[0:4]"
   ]
  },
  {
   "cell_type": "code",
   "execution_count": 19,
   "id": "b94339a4",
   "metadata": {},
   "outputs": [
    {
     "data": {
      "text/plain": [
       "[0, 4, 8]"
      ]
     },
     "execution_count": 19,
     "metadata": {},
     "output_type": "execute_result"
    }
   ],
   "source": [
    "list_int[::2]#2 şer 2 şer atlar"
   ]
  },
  {
   "cell_type": "code",
   "execution_count": 20,
   "id": "24694c41",
   "metadata": {},
   "outputs": [
    {
     "data": {
      "text/plain": [
       "['__add__',\n",
       " '__class__',\n",
       " '__class_getitem__',\n",
       " '__contains__',\n",
       " '__delattr__',\n",
       " '__delitem__',\n",
       " '__dir__',\n",
       " '__doc__',\n",
       " '__eq__',\n",
       " '__format__',\n",
       " '__ge__',\n",
       " '__getattribute__',\n",
       " '__getitem__',\n",
       " '__gt__',\n",
       " '__hash__',\n",
       " '__iadd__',\n",
       " '__imul__',\n",
       " '__init__',\n",
       " '__init_subclass__',\n",
       " '__iter__',\n",
       " '__le__',\n",
       " '__len__',\n",
       " '__lt__',\n",
       " '__mul__',\n",
       " '__ne__',\n",
       " '__new__',\n",
       " '__reduce__',\n",
       " '__reduce_ex__',\n",
       " '__repr__',\n",
       " '__reversed__',\n",
       " '__rmul__',\n",
       " '__setattr__',\n",
       " '__setitem__',\n",
       " '__sizeof__',\n",
       " '__str__',\n",
       " '__subclasshook__',\n",
       " 'append',\n",
       " 'clear',\n",
       " 'copy',\n",
       " 'count',\n",
       " 'extend',\n",
       " 'index',\n",
       " 'insert',\n",
       " 'pop',\n",
       " 'remove',\n",
       " 'reverse',\n",
       " 'sort']"
      ]
     },
     "execution_count": 20,
     "metadata": {},
     "output_type": "execute_result"
    }
   ],
   "source": [
    "dir(list_int)"
   ]
  },
  {
   "cell_type": "code",
   "execution_count": 21,
   "id": "af8c28b0",
   "metadata": {},
   "outputs": [],
   "source": [
    "list_int.append(12)"
   ]
  },
  {
   "cell_type": "code",
   "execution_count": 22,
   "id": "3140c6e8",
   "metadata": {},
   "outputs": [
    {
     "data": {
      "text/plain": [
       "[0, 2, 4, 6, 8, 10, 12]"
      ]
     },
     "execution_count": 22,
     "metadata": {},
     "output_type": "execute_result"
    }
   ],
   "source": [
    "list_int"
   ]
  },
  {
   "cell_type": "code",
   "execution_count": 27,
   "id": "eba2f7c3",
   "metadata": {},
   "outputs": [
    {
     "data": {
      "text/plain": [
       "[0, 2, 4, 6, 8, 10, 12, 5]"
      ]
     },
     "execution_count": 27,
     "metadata": {},
     "output_type": "execute_result"
    }
   ],
   "source": [
    "list_int.append(5)\n",
    "list_int"
   ]
  },
  {
   "cell_type": "code",
   "execution_count": 31,
   "id": "aa659cd9",
   "metadata": {},
   "outputs": [
    {
     "data": {
      "text/plain": [
       "[0, 2, 4, 5, 6, 8, 10, 12]"
      ]
     },
     "execution_count": 31,
     "metadata": {},
     "output_type": "execute_result"
    }
   ],
   "source": [
    "list_int.sort()\n",
    "list_int"
   ]
  },
  {
   "cell_type": "code",
   "execution_count": 33,
   "id": "1c4a8b5e",
   "metadata": {},
   "outputs": [
    {
     "data": {
      "text/plain": [
       "[12, 10, 8, 6, 5, 4, 2, 0]"
      ]
     },
     "execution_count": 33,
     "metadata": {},
     "output_type": "execute_result"
    }
   ],
   "source": [
    "list_int.reverse()\n",
    "list_int"
   ]
  },
  {
   "cell_type": "code",
   "execution_count": 36,
   "id": "cf868a78",
   "metadata": {},
   "outputs": [
    {
     "data": {
      "text/plain": [
       "[0, 2, 4, 6, 8, 10, 12]"
      ]
     },
     "execution_count": 36,
     "metadata": {},
     "output_type": "execute_result"
    }
   ],
   "source": [
    "list_int.remove(5)\n",
    "list_int.sort()\n",
    "list_int"
   ]
  },
  {
   "cell_type": "markdown",
   "id": "db136aa6",
   "metadata": {},
   "source": [
    "For each yapısı"
   ]
  },
  {
   "cell_type": "code",
   "execution_count": 37,
   "id": "72bad73f",
   "metadata": {},
   "outputs": [
    {
     "name": "stdout",
     "output_type": "stream",
     "text": [
      "1\n",
      "2\n",
      "3\n",
      "4\n",
      "5\n",
      "6\n",
      "7\n",
      "8\n",
      "9\n",
      "10\n",
      "11\n",
      "12\n",
      "13\n",
      "14\n",
      "15\n",
      "16\n",
      "17\n",
      "18\n",
      "19\n"
     ]
    }
   ],
   "source": [
    "for i in range(1,20):\n",
    "    print(i)"
   ]
  },
  {
   "cell_type": "code",
   "execution_count": 39,
   "id": "8d2e3c8c",
   "metadata": {},
   "outputs": [
    {
     "name": "stdout",
     "output_type": "stream",
     "text": [
      "K\n",
      "a\n",
      "r\n",
      "a\n",
      "b\n",
      "u\n",
      "k\n",
      " \n",
      "U\n",
      "n\n",
      "i\n",
      "v\n",
      "e\n",
      "r\n",
      "s\n",
      "i\n",
      "t\n",
      "e\n",
      "s\n",
      "i\n"
     ]
    }
   ],
   "source": [
    "for i in \"Karabuk Universitesi\":\n",
    "    print(i)"
   ]
  },
  {
   "cell_type": "code",
   "execution_count": 44,
   "id": "9d20f2da",
   "metadata": {},
   "outputs": [
    {
     "data": {
      "text/plain": [
       "[0, 2, 4, 6, 8, 10, 12]"
      ]
     },
     "execution_count": 44,
     "metadata": {},
     "output_type": "execute_result"
    }
   ],
   "source": [
    "list_int"
   ]
  },
  {
   "cell_type": "code",
   "execution_count": 45,
   "id": "c4e9fe73",
   "metadata": {},
   "outputs": [
    {
     "data": {
      "text/plain": [
       "42"
      ]
     },
     "execution_count": 45,
     "metadata": {},
     "output_type": "execute_result"
    }
   ],
   "source": [
    "sum(list_int)"
   ]
  },
  {
   "cell_type": "code",
   "execution_count": 46,
   "id": "39998f96",
   "metadata": {},
   "outputs": [
    {
     "data": {
      "text/plain": [
       "0"
      ]
     },
     "execution_count": 46,
     "metadata": {},
     "output_type": "execute_result"
    }
   ],
   "source": [
    "min(list_int)"
   ]
  },
  {
   "cell_type": "code",
   "execution_count": 59,
   "id": "bd8e7705",
   "metadata": {},
   "outputs": [
    {
     "name": "stdout",
     "output_type": "stream",
     "text": [
      "0\n"
     ]
    }
   ],
   "source": [
    "minimum = list_int[0]\n",
    "for i in list_int:\n",
    "    if(i<minimum):\n",
    "        minimum = i\n",
    "print(minimum)"
   ]
  },
  {
   "cell_type": "code",
   "execution_count": 62,
   "id": "b337b050",
   "metadata": {},
   "outputs": [
    {
     "name": "stdout",
     "output_type": "stream",
     "text": [
      "0\n",
      "1\n",
      "2\n",
      "3\n",
      "4\n"
     ]
    }
   ],
   "source": [
    "i=0\n",
    "while (i<5):\n",
    "    \n",
    "    print(i)\n",
    "    \n",
    "    i+=1"
   ]
  },
  {
   "cell_type": "code",
   "execution_count": 65,
   "id": "a270ad32",
   "metadata": {},
   "outputs": [],
   "source": [
    "def kare_cevre(x):\n",
    "    return 4*x;\n",
    "def kare_alan(x):\n",
    "    return pow(x,2)"
   ]
  },
  {
   "cell_type": "code",
   "execution_count": 67,
   "id": "f55ea6a5",
   "metadata": {},
   "outputs": [
    {
     "name": "stdout",
     "output_type": "stream",
     "text": [
      "20 25\n"
     ]
    }
   ],
   "source": [
    "print(kare_cevre(5),kare_alan(5))"
   ]
  },
  {
   "cell_type": "code",
   "execution_count": 69,
   "id": "d94e94d6",
   "metadata": {},
   "outputs": [
    {
     "name": "stdout",
     "output_type": "stream",
     "text": [
      "625\n"
     ]
    }
   ],
   "source": [
    "karesi = lambda x: x*x \n",
    "print(karesi(25))"
   ]
  },
  {
   "cell_type": "code",
   "execution_count": 71,
   "id": "9480a548",
   "metadata": {},
   "outputs": [
    {
     "data": {
      "text/plain": [
       "dict"
      ]
     },
     "execution_count": 71,
     "metadata": {},
     "output_type": "execute_result"
    }
   ],
   "source": [
    "dictionary = {\"bir\":1,\"iki\":2,\"üç\":3,\"dört\":4,\"beş\":5,\"altı\":6}\n",
    "type(dictionary)"
   ]
  },
  {
   "cell_type": "code",
   "execution_count": 77,
   "id": "d3c5f90e",
   "metadata": {},
   "outputs": [
    {
     "name": "stdout",
     "output_type": "stream",
     "text": [
      "6\n"
     ]
    }
   ],
   "source": [
    "print(dictionary[\"altı\"]);"
   ]
  },
  {
   "cell_type": "code",
   "execution_count": 78,
   "id": "03305618",
   "metadata": {},
   "outputs": [
    {
     "data": {
      "text/plain": [
       "dict_keys(['bir', 'iki', 'üç', 'dört', 'beş', 'altı'])"
      ]
     },
     "execution_count": 78,
     "metadata": {},
     "output_type": "execute_result"
    }
   ],
   "source": [
    "dictionary.keys()"
   ]
  },
  {
   "cell_type": "code",
   "execution_count": 79,
   "id": "611194b9",
   "metadata": {},
   "outputs": [
    {
     "data": {
      "text/plain": [
       "dict_values([1, 2, 3, 4, 5, 6])"
      ]
     },
     "execution_count": 79,
     "metadata": {},
     "output_type": "execute_result"
    }
   ],
   "source": [
    "dictionary.values()"
   ]
  },
  {
   "cell_type": "code",
   "execution_count": 80,
   "id": "8f1a25f5",
   "metadata": {},
   "outputs": [
    {
     "data": {
      "text/plain": [
       "1"
      ]
     },
     "execution_count": 80,
     "metadata": {},
     "output_type": "execute_result"
    }
   ],
   "source": [
    "def deneme():\n",
    "    \n",
    "    dictionary = {\"bir\":1,\"iki\":2,\"üç\":3,\"dört\":4,\"beş\":5,\"altı\":6}\n",
    "    \n",
    "    return dictionary\n",
    "\n",
    "dic = deneme() \n",
    "dic[\"bir\"]"
   ]
  },
  {
   "cell_type": "code",
   "execution_count": 81,
   "id": "7382f978",
   "metadata": {},
   "outputs": [
    {
     "name": "stdout",
     "output_type": "stream",
     "text": [
      "evet\n"
     ]
    }
   ],
   "source": [
    "dictionary = {\"bir\":1,\"iki\":2,\"üç\":3,\"dört\":4,\"beş\":5,\"altı\":6}\n",
    "\n",
    "keys = dictionary.keys() \n",
    "\n",
    "if \"iki\" in keys:\n",
    "    \n",
    "    print(\"evet\")\n",
    "\n",
    "else:\n",
    "    print(\"hayır\")"
   ]
  },
  {
   "cell_type": "code",
   "execution_count": null,
   "id": "fc8c04d4",
   "metadata": {},
   "outputs": [],
   "source": []
  }
 ],
 "metadata": {
  "kernelspec": {
   "display_name": "Python 3 (ipykernel)",
   "language": "python",
   "name": "python3"
  },
  "language_info": {
   "codemirror_mode": {
    "name": "ipython",
    "version": 3
   },
   "file_extension": ".py",
   "mimetype": "text/x-python",
   "name": "python",
   "nbconvert_exporter": "python",
   "pygments_lexer": "ipython3",
   "version": "3.9.13"
  }
 },
 "nbformat": 4,
 "nbformat_minor": 5
}
