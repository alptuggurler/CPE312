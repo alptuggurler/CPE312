{
  "nbformat": 4,
  "nbformat_minor": 0,
  "metadata": {
    "colab": {
      "provenance": [],
      "mount_file_id": "1AgeHONhjo_BShehne1i1Gcjjc8LoX3DF",
      "authorship_tag": "ABX9TyPBOTFoVnuURHWP4aFPWf/D",
      "include_colab_link": true
    },
    "kernelspec": {
      "name": "python3",
      "display_name": "Python 3"
    },
    "language_info": {
      "name": "python"
    }
  },
  "cells": [
    {
      "cell_type": "markdown",
      "metadata": {
        "id": "view-in-github",
        "colab_type": "text"
      },
      "source": [
        "<a href=\"https://colab.research.google.com/github/alptuggurler/CPE312/blob/main/week5_2.ipynb\" target=\"_parent\"><img src=\"https://colab.research.google.com/assets/colab-badge.svg\" alt=\"Open In Colab\"/></a>"
      ]
    },
    {
      "cell_type": "code",
      "execution_count": 3,
      "metadata": {
        "id": "68AUoqotzrF7"
      },
      "outputs": [],
      "source": [
        "import numpy as np \n",
        "import pandas as pd \n",
        "import matplotlib.pyplot as plt\n",
        "import seaborn as sns"
      ]
    },
    {
      "cell_type": "code",
      "source": [
        "data = pd.read_csv(\"/content/drive/MyDrive/1csv/column_3C_weka.csv\")"
      ],
      "metadata": {
        "id": "L29tzogt1EMe"
      },
      "execution_count": 4,
      "outputs": []
    },
    {
      "cell_type": "code",
      "source": [
        "data.head() "
      ],
      "metadata": {
        "id": "VMzzBBmL1HnM",
        "colab": {
          "base_uri": "https://localhost:8080/",
          "height": 206
        },
        "outputId": "02c4e4b0-4ddc-45c0-9c14-712b11649128"
      },
      "execution_count": 5,
      "outputs": [
        {
          "output_type": "execute_result",
          "data": {
            "text/plain": [
              "   pelvic_incidence  pelvic_tilt  lumbar_lordosis_angle  sacral_slope  \\\n",
              "0         63.027817    22.552586              39.609117     40.475232   \n",
              "1         39.056951    10.060991              25.015378     28.995960   \n",
              "2         68.832021    22.218482              50.092194     46.613539   \n",
              "3         69.297008    24.652878              44.311238     44.644130   \n",
              "4         49.712859     9.652075              28.317406     40.060784   \n",
              "\n",
              "   pelvic_radius  degree_spondylolisthesis   class  \n",
              "0      98.672917                 -0.254400  Hernia  \n",
              "1     114.405425                  4.564259  Hernia  \n",
              "2     105.985135                 -3.530317  Hernia  \n",
              "3     101.868495                 11.211523  Hernia  \n",
              "4     108.168725                  7.918501  Hernia  "
            ],
            "text/html": [
              "\n",
              "  <div id=\"df-d121ba72-7eb9-462b-bf0c-d230164c4923\">\n",
              "    <div class=\"colab-df-container\">\n",
              "      <div>\n",
              "<style scoped>\n",
              "    .dataframe tbody tr th:only-of-type {\n",
              "        vertical-align: middle;\n",
              "    }\n",
              "\n",
              "    .dataframe tbody tr th {\n",
              "        vertical-align: top;\n",
              "    }\n",
              "\n",
              "    .dataframe thead th {\n",
              "        text-align: right;\n",
              "    }\n",
              "</style>\n",
              "<table border=\"1\" class=\"dataframe\">\n",
              "  <thead>\n",
              "    <tr style=\"text-align: right;\">\n",
              "      <th></th>\n",
              "      <th>pelvic_incidence</th>\n",
              "      <th>pelvic_tilt</th>\n",
              "      <th>lumbar_lordosis_angle</th>\n",
              "      <th>sacral_slope</th>\n",
              "      <th>pelvic_radius</th>\n",
              "      <th>degree_spondylolisthesis</th>\n",
              "      <th>class</th>\n",
              "    </tr>\n",
              "  </thead>\n",
              "  <tbody>\n",
              "    <tr>\n",
              "      <th>0</th>\n",
              "      <td>63.027817</td>\n",
              "      <td>22.552586</td>\n",
              "      <td>39.609117</td>\n",
              "      <td>40.475232</td>\n",
              "      <td>98.672917</td>\n",
              "      <td>-0.254400</td>\n",
              "      <td>Hernia</td>\n",
              "    </tr>\n",
              "    <tr>\n",
              "      <th>1</th>\n",
              "      <td>39.056951</td>\n",
              "      <td>10.060991</td>\n",
              "      <td>25.015378</td>\n",
              "      <td>28.995960</td>\n",
              "      <td>114.405425</td>\n",
              "      <td>4.564259</td>\n",
              "      <td>Hernia</td>\n",
              "    </tr>\n",
              "    <tr>\n",
              "      <th>2</th>\n",
              "      <td>68.832021</td>\n",
              "      <td>22.218482</td>\n",
              "      <td>50.092194</td>\n",
              "      <td>46.613539</td>\n",
              "      <td>105.985135</td>\n",
              "      <td>-3.530317</td>\n",
              "      <td>Hernia</td>\n",
              "    </tr>\n",
              "    <tr>\n",
              "      <th>3</th>\n",
              "      <td>69.297008</td>\n",
              "      <td>24.652878</td>\n",
              "      <td>44.311238</td>\n",
              "      <td>44.644130</td>\n",
              "      <td>101.868495</td>\n",
              "      <td>11.211523</td>\n",
              "      <td>Hernia</td>\n",
              "    </tr>\n",
              "    <tr>\n",
              "      <th>4</th>\n",
              "      <td>49.712859</td>\n",
              "      <td>9.652075</td>\n",
              "      <td>28.317406</td>\n",
              "      <td>40.060784</td>\n",
              "      <td>108.168725</td>\n",
              "      <td>7.918501</td>\n",
              "      <td>Hernia</td>\n",
              "    </tr>\n",
              "  </tbody>\n",
              "</table>\n",
              "</div>\n",
              "      <button class=\"colab-df-convert\" onclick=\"convertToInteractive('df-d121ba72-7eb9-462b-bf0c-d230164c4923')\"\n",
              "              title=\"Convert this dataframe to an interactive table.\"\n",
              "              style=\"display:none;\">\n",
              "        \n",
              "  <svg xmlns=\"http://www.w3.org/2000/svg\" height=\"24px\"viewBox=\"0 0 24 24\"\n",
              "       width=\"24px\">\n",
              "    <path d=\"M0 0h24v24H0V0z\" fill=\"none\"/>\n",
              "    <path d=\"M18.56 5.44l.94 2.06.94-2.06 2.06-.94-2.06-.94-.94-2.06-.94 2.06-2.06.94zm-11 1L8.5 8.5l.94-2.06 2.06-.94-2.06-.94L8.5 2.5l-.94 2.06-2.06.94zm10 10l.94 2.06.94-2.06 2.06-.94-2.06-.94-.94-2.06-.94 2.06-2.06.94z\"/><path d=\"M17.41 7.96l-1.37-1.37c-.4-.4-.92-.59-1.43-.59-.52 0-1.04.2-1.43.59L10.3 9.45l-7.72 7.72c-.78.78-.78 2.05 0 2.83L4 21.41c.39.39.9.59 1.41.59.51 0 1.02-.2 1.41-.59l7.78-7.78 2.81-2.81c.8-.78.8-2.07 0-2.86zM5.41 20L4 18.59l7.72-7.72 1.47 1.35L5.41 20z\"/>\n",
              "  </svg>\n",
              "      </button>\n",
              "      \n",
              "  <style>\n",
              "    .colab-df-container {\n",
              "      display:flex;\n",
              "      flex-wrap:wrap;\n",
              "      gap: 12px;\n",
              "    }\n",
              "\n",
              "    .colab-df-convert {\n",
              "      background-color: #E8F0FE;\n",
              "      border: none;\n",
              "      border-radius: 50%;\n",
              "      cursor: pointer;\n",
              "      display: none;\n",
              "      fill: #1967D2;\n",
              "      height: 32px;\n",
              "      padding: 0 0 0 0;\n",
              "      width: 32px;\n",
              "    }\n",
              "\n",
              "    .colab-df-convert:hover {\n",
              "      background-color: #E2EBFA;\n",
              "      box-shadow: 0px 1px 2px rgba(60, 64, 67, 0.3), 0px 1px 3px 1px rgba(60, 64, 67, 0.15);\n",
              "      fill: #174EA6;\n",
              "    }\n",
              "\n",
              "    [theme=dark] .colab-df-convert {\n",
              "      background-color: #3B4455;\n",
              "      fill: #D2E3FC;\n",
              "    }\n",
              "\n",
              "    [theme=dark] .colab-df-convert:hover {\n",
              "      background-color: #434B5C;\n",
              "      box-shadow: 0px 1px 3px 1px rgba(0, 0, 0, 0.15);\n",
              "      filter: drop-shadow(0px 1px 2px rgba(0, 0, 0, 0.3));\n",
              "      fill: #FFFFFF;\n",
              "    }\n",
              "  </style>\n",
              "\n",
              "      <script>\n",
              "        const buttonEl =\n",
              "          document.querySelector('#df-d121ba72-7eb9-462b-bf0c-d230164c4923 button.colab-df-convert');\n",
              "        buttonEl.style.display =\n",
              "          google.colab.kernel.accessAllowed ? 'block' : 'none';\n",
              "\n",
              "        async function convertToInteractive(key) {\n",
              "          const element = document.querySelector('#df-d121ba72-7eb9-462b-bf0c-d230164c4923');\n",
              "          const dataTable =\n",
              "            await google.colab.kernel.invokeFunction('convertToInteractive',\n",
              "                                                     [key], {});\n",
              "          if (!dataTable) return;\n",
              "\n",
              "          const docLinkHtml = 'Like what you see? Visit the ' +\n",
              "            '<a target=\"_blank\" href=https://colab.research.google.com/notebooks/data_table.ipynb>data table notebook</a>'\n",
              "            + ' to learn more about interactive tables.';\n",
              "          element.innerHTML = '';\n",
              "          dataTable['output_type'] = 'display_data';\n",
              "          await google.colab.output.renderOutput(dataTable, element);\n",
              "          const docLink = document.createElement('div');\n",
              "          docLink.innerHTML = docLinkHtml;\n",
              "          element.appendChild(docLink);\n",
              "        }\n",
              "      </script>\n",
              "    </div>\n",
              "  </div>\n",
              "  "
            ]
          },
          "metadata": {},
          "execution_count": 5
        }
      ]
    },
    {
      "cell_type": "code",
      "source": [
        "data.info()"
      ],
      "metadata": {
        "colab": {
          "base_uri": "https://localhost:8080/"
        },
        "id": "sgpX5jtW3Bvs",
        "outputId": "0dcad9a3-3b8b-46f9-f049-f8a5ed61edeb"
      },
      "execution_count": 6,
      "outputs": [
        {
          "output_type": "stream",
          "name": "stdout",
          "text": [
            "<class 'pandas.core.frame.DataFrame'>\n",
            "RangeIndex: 310 entries, 0 to 309\n",
            "Data columns (total 7 columns):\n",
            " #   Column                    Non-Null Count  Dtype  \n",
            "---  ------                    --------------  -----  \n",
            " 0   pelvic_incidence          310 non-null    float64\n",
            " 1   pelvic_tilt               310 non-null    float64\n",
            " 2   lumbar_lordosis_angle     310 non-null    float64\n",
            " 3   sacral_slope              310 non-null    float64\n",
            " 4   pelvic_radius             310 non-null    float64\n",
            " 5   degree_spondylolisthesis  310 non-null    float64\n",
            " 6   class                     310 non-null    object \n",
            "dtypes: float64(6), object(1)\n",
            "memory usage: 17.1+ KB\n"
          ]
        }
      ]
    },
    {
      "cell_type": "code",
      "source": [
        "from sklearn.neighbors import KNeighborsClassifier\n",
        "knn = KNeighborsClassifier(n_neighbors = 3)\n",
        "x,y = data.loc[:,data.columns != 'class'], data.loc[:,'class']\n",
        "knn.fit(x,y)\n",
        "prediction = knn.predict(x)\n",
        "print('Prediction: {}'.format(prediction))"
      ],
      "metadata": {
        "colab": {
          "base_uri": "https://localhost:8080/"
        },
        "id": "1ro1Z1jb3Olp",
        "outputId": "b937c9df-fabc-461b-99f3-3be190619190"
      },
      "execution_count": 9,
      "outputs": [
        {
          "output_type": "stream",
          "name": "stdout",
          "text": [
            "Prediction: ['Hernia' 'Hernia' 'Hernia' 'Hernia' 'Hernia' 'Normal' 'Normal' 'Hernia'\n",
            " 'Normal' 'Hernia' 'Hernia' 'Hernia' 'Hernia' 'Hernia' 'Hernia' 'Hernia'\n",
            " 'Hernia' 'Hernia' 'Hernia' 'Hernia' 'Normal' 'Normal' 'Normal' 'Hernia'\n",
            " 'Hernia' 'Hernia' 'Hernia' 'Hernia' 'Hernia' 'Hernia' 'Normal' 'Hernia'\n",
            " 'Normal' 'Normal' 'Hernia' 'Hernia' 'Hernia' 'Hernia' 'Hernia' 'Hernia'\n",
            " 'Hernia' 'Hernia' 'Hernia' 'Hernia' 'Hernia' 'Hernia' 'Hernia' 'Hernia'\n",
            " 'Hernia' 'Hernia' 'Hernia' 'Hernia' 'Hernia' 'Hernia' 'Hernia' 'Hernia'\n",
            " 'Hernia' 'Hernia' 'Hernia' 'Hernia' 'Spondylolisthesis'\n",
            " 'Spondylolisthesis' 'Spondylolisthesis' 'Spondylolisthesis'\n",
            " 'Spondylolisthesis' 'Spondylolisthesis' 'Spondylolisthesis'\n",
            " 'Spondylolisthesis' 'Normal' 'Spondylolisthesis' 'Spondylolisthesis'\n",
            " 'Spondylolisthesis' 'Spondylolisthesis' 'Spondylolisthesis'\n",
            " 'Spondylolisthesis' 'Spondylolisthesis' 'Spondylolisthesis'\n",
            " 'Spondylolisthesis' 'Spondylolisthesis' 'Hernia' 'Spondylolisthesis'\n",
            " 'Spondylolisthesis' 'Spondylolisthesis' 'Spondylolisthesis'\n",
            " 'Spondylolisthesis' 'Spondylolisthesis' 'Spondylolisthesis'\n",
            " 'Spondylolisthesis' 'Spondylolisthesis' 'Spondylolisthesis'\n",
            " 'Spondylolisthesis' 'Spondylolisthesis' 'Spondylolisthesis'\n",
            " 'Spondylolisthesis' 'Spondylolisthesis' 'Spondylolisthesis'\n",
            " 'Spondylolisthesis' 'Spondylolisthesis' 'Spondylolisthesis'\n",
            " 'Spondylolisthesis' 'Spondylolisthesis' 'Spondylolisthesis'\n",
            " 'Spondylolisthesis' 'Spondylolisthesis' 'Spondylolisthesis' 'Hernia'\n",
            " 'Spondylolisthesis' 'Spondylolisthesis' 'Spondylolisthesis'\n",
            " 'Spondylolisthesis' 'Spondylolisthesis' 'Spondylolisthesis'\n",
            " 'Spondylolisthesis' 'Spondylolisthesis' 'Spondylolisthesis'\n",
            " 'Spondylolisthesis' 'Spondylolisthesis' 'Spondylolisthesis'\n",
            " 'Spondylolisthesis' 'Spondylolisthesis' 'Spondylolisthesis'\n",
            " 'Spondylolisthesis' 'Spondylolisthesis' 'Spondylolisthesis'\n",
            " 'Spondylolisthesis' 'Spondylolisthesis' 'Spondylolisthesis'\n",
            " 'Spondylolisthesis' 'Spondylolisthesis' 'Spondylolisthesis'\n",
            " 'Spondylolisthesis' 'Normal' 'Spondylolisthesis' 'Spondylolisthesis'\n",
            " 'Spondylolisthesis' 'Spondylolisthesis' 'Spondylolisthesis'\n",
            " 'Spondylolisthesis' 'Spondylolisthesis' 'Spondylolisthesis'\n",
            " 'Spondylolisthesis' 'Spondylolisthesis' 'Spondylolisthesis'\n",
            " 'Spondylolisthesis' 'Spondylolisthesis' 'Spondylolisthesis'\n",
            " 'Spondylolisthesis' 'Spondylolisthesis' 'Spondylolisthesis'\n",
            " 'Spondylolisthesis' 'Spondylolisthesis' 'Spondylolisthesis'\n",
            " 'Spondylolisthesis' 'Spondylolisthesis' 'Spondylolisthesis'\n",
            " 'Spondylolisthesis' 'Spondylolisthesis' 'Spondylolisthesis'\n",
            " 'Spondylolisthesis' 'Spondylolisthesis' 'Spondylolisthesis'\n",
            " 'Spondylolisthesis' 'Spondylolisthesis' 'Spondylolisthesis'\n",
            " 'Spondylolisthesis' 'Spondylolisthesis' 'Spondylolisthesis'\n",
            " 'Spondylolisthesis' 'Spondylolisthesis' 'Spondylolisthesis'\n",
            " 'Spondylolisthesis' 'Normal' 'Spondylolisthesis' 'Spondylolisthesis'\n",
            " 'Spondylolisthesis' 'Spondylolisthesis' 'Spondylolisthesis'\n",
            " 'Spondylolisthesis' 'Spondylolisthesis' 'Spondylolisthesis'\n",
            " 'Spondylolisthesis' 'Spondylolisthesis' 'Spondylolisthesis'\n",
            " 'Spondylolisthesis' 'Spondylolisthesis' 'Spondylolisthesis'\n",
            " 'Spondylolisthesis' 'Spondylolisthesis' 'Spondylolisthesis'\n",
            " 'Spondylolisthesis' 'Spondylolisthesis' 'Spondylolisthesis'\n",
            " 'Spondylolisthesis' 'Spondylolisthesis' 'Spondylolisthesis'\n",
            " 'Spondylolisthesis' 'Spondylolisthesis' 'Spondylolisthesis'\n",
            " 'Spondylolisthesis' 'Spondylolisthesis' 'Spondylolisthesis'\n",
            " 'Spondylolisthesis' 'Spondylolisthesis' 'Spondylolisthesis'\n",
            " 'Spondylolisthesis' 'Spondylolisthesis' 'Spondylolisthesis'\n",
            " 'Spondylolisthesis' 'Spondylolisthesis' 'Spondylolisthesis' 'Hernia'\n",
            " 'Normal' 'Normal' 'Normal' 'Normal' 'Normal' 'Normal' 'Normal' 'Normal'\n",
            " 'Normal' 'Normal' 'Normal' 'Spondylolisthesis' 'Normal' 'Normal' 'Normal'\n",
            " 'Normal' 'Normal' 'Normal' 'Normal' 'Normal' 'Normal' 'Normal' 'Normal'\n",
            " 'Hernia' 'Normal' 'Normal' 'Normal' 'Normal' 'Normal' 'Normal' 'Hernia'\n",
            " 'Normal' 'Normal' 'Hernia' 'Normal' 'Normal' 'Normal' 'Normal' 'Hernia'\n",
            " 'Normal' 'Normal' 'Normal' 'Normal' 'Normal' 'Spondylolisthesis' 'Normal'\n",
            " 'Normal' 'Normal' 'Normal' 'Normal' 'Normal' 'Normal' 'Normal' 'Normal'\n",
            " 'Normal' 'Normal' 'Normal' 'Normal' 'Normal' 'Normal' 'Normal' 'Normal'\n",
            " 'Normal' 'Normal' 'Normal' 'Normal' 'Normal' 'Normal' 'Normal' 'Normal'\n",
            " 'Normal' 'Normal' 'Normal' 'Normal' 'Normal' 'Normal' 'Normal' 'Normal'\n",
            " 'Normal' 'Normal' 'Normal' 'Normal' 'Spondylolisthesis' 'Normal' 'Normal'\n",
            " 'Normal' 'Hernia' 'Normal' 'Normal' 'Normal' 'Normal' 'Normal' 'Normal'\n",
            " 'Normal' 'Hernia' 'Normal' 'Hernia' 'Normal' 'Normal']\n"
          ]
        }
      ]
    },
    {
      "cell_type": "code",
      "source": [
        "from sklearn.model_selection import train_test_split\n",
        "x_train,x_test,y_train,y_test = train_test_split(x,y,test_size = 0.3,random_state = 1)\n",
        "knn = KNeighborsClassifier(n_neighbors = 3)\n",
        "x,y = data.loc[:,data.columns != 'class'], data.loc[:,'class']\n",
        "knn.fit(x_train,y_train)\n",
        "prediction = knn.predict(x_test)\n",
        "print('With KNN K=3 accuracy is: ',knn.score(x_test,y_test)) "
      ],
      "metadata": {
        "colab": {
          "base_uri": "https://localhost:8080/"
        },
        "id": "bYZMBgVc3XJS",
        "outputId": "b250d7f2-c652-438d-e6f1-1a6c77ec51f7"
      },
      "execution_count": 10,
      "outputs": [
        {
          "output_type": "stream",
          "name": "stdout",
          "text": [
            "With KNN K=3 accuracy is:  0.8387096774193549\n"
          ]
        }
      ]
    },
    {
      "cell_type": "code",
      "source": [
        "neig = np.arange(1, 25)\n",
        "train_accuracy = []\n",
        "test_accuracy = []\n",
        "\n",
        "for i, k in enumerate(neig):\n",
        "    knn = KNeighborsClassifier(n_neighbors=k)\n",
        "    knn.fit(x_train,y_train)\n",
        "    train_accuracy.append(knn.score(x_train, y_train))\n",
        "    test_accuracy.append(knn.score(x_test, y_test))\n",
        "\n",
        "# Plot\n",
        "plt.figure(figsize=[13,8])\n",
        "plt.plot(neig, test_accuracy, label = 'Testing Accuracy')\n",
        "plt.plot(neig, train_accuracy, label = 'Training Accuracy')\n",
        "plt.legend()\n",
        "plt.title('-value VS Accuracy')\n",
        "plt.xlabel('Number of Neighbors')\n",
        "plt.ylabel('Accuracy')\n",
        "plt.xticks(neig)\n",
        "plt.savefig('graph.png')\n",
        "plt.show()\n",
        "print(\"Best accuracy is {} with K = {}\".format(np.max(test_accuracy),1+test_accuracy.index(np.max(test_accuracy))))"
      ],
      "metadata": {
        "colab": {
          "base_uri": "https://localhost:8080/",
          "height": 530
        },
        "id": "hHWoS7ng3rmt",
        "outputId": "0197691e-2d42-4ca1-bd7c-acd75b0a3a65"
      },
      "execution_count": 11,
      "outputs": [
        {
          "output_type": "display_data",
          "data": {
            "text/plain": [
              "<Figure size 936x576 with 1 Axes>"
            ],
            "image/png": "[encoded data removed]"
          },
          "metadata": {
            "needs_background": "light"
          }
        },
        {
          "output_type": "stream",
          "name": "stdout",
          "text": [
            "Best accuracy is 0.8602150537634409 with K = 13\n"
          ]
        }
      ]
    },
    {
      "cell_type": "code",
      "source": [],
      "metadata": {
        "id": "n-tO51vc3vVB"
      },
      "execution_count": 12,
      "outputs": []
    },
    {
      "cell_type": "code",
      "source": [],
      "metadata": {
        "id": "juCNd4mI33xU"
      },
      "execution_count": null,
      "outputs": []
    }
  ]
}